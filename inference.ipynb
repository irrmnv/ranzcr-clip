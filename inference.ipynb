{
 "cells": [
  {
   "cell_type": "code",
   "execution_count": null,
   "metadata": {
    "_cell_guid": "b1076dfc-b9ad-4769-8c92-a6c4dae69d19",
    "_uuid": "8f2839f25d086af736a60e9eeb907d3b93b6e0e5",
    "execution": {
     "iopub.execute_input": "2021-03-16T07:35:06.857100Z",
     "iopub.status.busy": "2021-03-16T07:35:06.856307Z",
     "iopub.status.idle": "2021-03-16T07:35:10.007670Z",
     "shell.execute_reply": "2021-03-16T07:35:10.006647Z"
    },
    "papermill": {
     "duration": 3.171572,
     "end_time": "2021-03-16T07:35:10.007861",
     "exception": false,
     "start_time": "2021-03-16T07:35:06.836289",
     "status": "completed"
    },
    "tags": []
   },
   "outputs": [],
   "source": [
    "import os\n",
    "import sys\n",
    "sys.path.append('../input/timm-pytorch-image-models/pytorch-image-models-master')\n",
    "\n",
    "import albumentations as A\n",
    "import tqdm\n",
    "import cv2\n",
    "import numpy as np\n",
    "import pandas as pd\n",
    "\n",
    "import torch\n",
    "import torch.nn as nn\n",
    "from torch.utils.data import DataLoader, Dataset, Subset\n",
    "\n",
    "\n",
    "batch_size, num_workers = 16, 8\n",
    "debug = False\n",
    "\n",
    "\n",
    "resnet_fns = [\n",
    "    '../input/ranzcr-clip-models/resnet200d_640_1000_fold_0_model-018-0.961305.pth',\n",
    "    '../input/ranzcr-clip-models/resnet200d_640_1000_fold_1_model-015-0.958331.pth',\n",
    "    '../input/ranzcr-clip-models/resnet200d_640_1000_fold_2_model-018-0.956810.pth',\n",
    "    '../input/ranzcr-clip-models/resnet200d_640_1000_fold_3_model-017-0.958175.pth',\n",
    "    '../input/ranzcr-clip-models/resnet200d_640_1000_fold_4_model-010-0.957087.pth',\n",
    "]\n",
    "\n",
    "\n",
    "effnet_fns = [\n",
    "    '../input/ranzcr-clip-models/tf_efficientnet_b7_ns_1000_fold_0_model-005-0.958068.pth',\n",
    "    '../input/ranzcr-clip-models/tf_efficientnet_b7_ns_1000_fold_1_model-005-0.955992.pth',\n",
    "    '../input/ranzcr-clip-models/tf_efficientnet_b7_ns_1000_fold_2_model-004-0.954233.pth',\n",
    "    '../input/ranzcr-clip-models/tf_efficientnet_b7_ns_1000_fold_3_model-009-0.957107.pth',\n",
    "    '../input/ranzcr-clip-models/tf_efficientnet_b7_ns_1000_fold_4_model-008-0.955761.pth',\n",
    "]\n",
    "\n",
    "\n",
    "class RANZCRDatasetInference(Dataset):\n",
    "    def __init__(self, df, image_size):\n",
    "        self.df = df\n",
    "        self.transform = A.Compose([\n",
    "            A.Resize(image_size, image_size),\n",
    "            A.Normalize(\n",
    "                mean=(0.485),\n",
    "                std=(0.229),\n",
    "            ),\n",
    "        ])\n",
    "\n",
    "    def __len__(self):\n",
    "        return len(self.df)\n",
    "\n",
    "    def __getitem__(self, index):\n",
    "        row = self.df.loc[index]\n",
    "        img = cv2.imread(row.file_path, cv2.IMREAD_GRAYSCALE)\n",
    "        mask = img > 0\n",
    "        img = img[np.ix_(mask.any(1), mask.any(0))]\n",
    "\n",
    "        img = np.expand_dims(img, -1)\n",
    "\n",
    "        res = self.transform(image=img)\n",
    "\n",
    "        img = res['image']\n",
    "        img = torch.from_numpy(img.transpose(2, 0, 1))\n",
    "\n",
    "        return img\n",
    "\n",
    "\n",
    "def inference(models, test_loader, device='cuda'):\n",
    "    probs = []\n",
    "    for images in tqdm.tqdm(test_loader):\n",
    "        images = images.to(device)\n",
    "        y_preds = []\n",
    "        for model in models:\n",
    "            batch_preds = []\n",
    "            for tta in [lambda x: x, lambda x: x.flip(-1)]:\n",
    "                with torch.no_grad():\n",
    "                    batch_preds.append(model(tta(images)).sigmoid().to('cpu').numpy())\n",
    "            batch_preds = np.mean(batch_preds, axis=0)\n",
    "            y_preds.append(batch_preds)\n",
    "        y_preds = np.mean(y_preds, axis=0)\n",
    "        probs.append(y_preds)\n",
    "    probs = np.concatenate(probs)\n",
    "    return probs"
   ]
  },
  {
   "cell_type": "code",
   "execution_count": null,
   "metadata": {
    "execution": {
     "iopub.execute_input": "2021-03-16T07:35:10.023864Z",
     "iopub.status.busy": "2021-03-16T07:35:10.023368Z",
     "iopub.status.idle": "2021-03-16T07:35:10.054412Z",
     "shell.execute_reply": "2021-03-16T07:35:10.053228Z"
    },
    "papermill": {
     "duration": 0.040745,
     "end_time": "2021-03-16T07:35:10.054534",
     "exception": false,
     "start_time": "2021-03-16T07:35:10.013789",
     "status": "completed"
    },
    "tags": []
   },
   "outputs": [],
   "source": [
    "test = pd.read_csv('../input/ranzcr-clip-catheter-line-classification/sample_submission.csv')\n",
    "test['file_path'] = test.StudyInstanceUID.apply(lambda x: os.path.join('../input/ranzcr-clip-catheter-line-classification/test', f'{x}.jpg'))"
   ]
  },
  {
   "cell_type": "code",
   "execution_count": null,
   "metadata": {
    "execution": {
     "iopub.execute_input": "2021-03-16T07:35:10.068396Z",
     "iopub.status.busy": "2021-03-16T07:35:10.067818Z",
     "iopub.status.idle": "2021-03-16T08:38:38.398238Z",
     "shell.execute_reply": "2021-03-16T08:38:38.398696Z"
    },
    "papermill": {
     "duration": 3808.340003,
     "end_time": "2021-03-16T08:38:38.398858",
     "exception": false,
     "start_time": "2021-03-16T07:35:10.058855",
     "status": "completed"
    },
    "tags": []
   },
   "outputs": [],
   "source": [
    "models = []\n",
    "\n",
    "for fn in effnet_fns:\n",
    "    model = torch.load(fn, map_location={'cuda:1':'cuda:0'})\n",
    "    model.eval()\n",
    "    models.append(model)\n",
    "\n",
    "test_dataset = RANZCRDatasetInference(test, 1000)\n",
    "if debug:\n",
    "    test_dataset = Subset(test_dataset, list(range(batch_size)))\n",
    "test_loader = DataLoader(test_dataset, batch_size=batch_size, num_workers=num_workers, pin_memory=True)\n",
    "\n",
    "effnet_predictions = inference(models, test_loader)"
   ]
  },
  {
   "cell_type": "code",
   "execution_count": null,
   "metadata": {
    "execution": {
     "iopub.execute_input": "2021-03-16T08:38:38.545758Z",
     "iopub.status.busy": "2021-03-16T08:38:38.545213Z",
     "iopub.status.idle": "2021-03-16T09:00:39.631887Z",
     "shell.execute_reply": "2021-03-16T09:00:39.630009Z"
    },
    "papermill": {
     "duration": 1321.169687,
     "end_time": "2021-03-16T09:00:39.632086",
     "exception": false,
     "start_time": "2021-03-16T08:38:38.462399",
     "status": "completed"
    },
    "tags": []
   },
   "outputs": [],
   "source": [
    "models = []\n",
    "\n",
    "for fn in resnet_fns:\n",
    "    model = torch.load(fn, map_location={'cuda:1':'cuda:0'})\n",
    "    model.eval()\n",
    "    models.append(model)\n",
    "\n",
    "test_dataset = RANZCRDatasetInference(test, 640)\n",
    "if debug:\n",
    "    test_dataset = Subset(test_dataset, list(range(batch_size)))\n",
    "test_loader = DataLoader(test_dataset, batch_size=batch_size, num_workers=num_workers, pin_memory=True)\n",
    "\n",
    "resnet_predictions = inference(models, test_loader)"
   ]
  },
  {
   "cell_type": "code",
   "execution_count": null,
   "metadata": {
    "execution": {
     "iopub.execute_input": "2021-03-16T09:00:40.038198Z",
     "iopub.status.busy": "2021-03-16T09:00:40.037323Z",
     "iopub.status.idle": "2021-03-16T09:00:40.446933Z",
     "shell.execute_reply": "2021-03-16T09:00:40.445868Z"
    },
    "papermill": {
     "duration": 0.618198,
     "end_time": "2021-03-16T09:00:40.447071",
     "exception": false,
     "start_time": "2021-03-16T09:00:39.828873",
     "status": "completed"
    },
    "tags": []
   },
   "outputs": [],
   "source": [
    "predictions = (effnet_predictions * 0.971 + resnet_predictions * 0.965) / (0.971 + 0.965)\n",
    "\n",
    "test = test.drop('file_path', axis=1)\n",
    "\n",
    "if debug:\n",
    "    test.iloc[:batch_size, 1:] = predictions\n",
    "else:\n",
    "    test.iloc[:, 1:] = predictions\n",
    "\n",
    "test.to_csv('submission.csv', index=None)"
   ]
  },
  {
   "cell_type": "code",
   "execution_count": null,
   "metadata": {
    "papermill": {
     "duration": 0.119322,
     "end_time": "2021-03-16T09:00:40.685471",
     "exception": false,
     "start_time": "2021-03-16T09:00:40.566149",
     "status": "completed"
    },
    "tags": []
   },
   "outputs": [],
   "source": []
  }
 ],
 "metadata": {
  "kernelspec": {
   "display_name": "Python 3",
   "language": "python",
   "name": "python3"
  },
  "language_info": {
   "codemirror_mode": {
    "name": "ipython",
    "version": 3
   },
   "file_extension": ".py",
   "mimetype": "text/x-python",
   "name": "python",
   "nbconvert_exporter": "python",
   "pygments_lexer": "ipython3",
   "version": "3.7.9"
  },
  "papermill": {
   "default_parameters": {},
   "duration": 5141.071412,
   "end_time": "2021-03-16T09:00:43.294059",
   "environment_variables": {},
   "exception": null,
   "input_path": "__notebook__.ipynb",
   "output_path": "__notebook__.ipynb",
   "parameters": {},
   "start_time": "2021-03-16T07:35:02.222647",
   "version": "2.2.2"
  }
 },
 "nbformat": 4,
 "nbformat_minor": 4
}